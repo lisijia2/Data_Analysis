{
 "cells": [
  {
   "cell_type": "markdown",
   "metadata": {},
   "source": [
    "# Lab15: Clustering World Bank Data\n",
    "\n",
    "In this lab you will be clustering World Bank observations of per capita GDP and the literacy rate of different countries.\n",
    "\n",
    "We're going to see if we can cluster countries by literacy rates and GDP.  \n",
    "\n",
    "We'll try a number of different clustering algorithms to test clustering to see how they perform."
   ]
  },
  {
   "cell_type": "code",
   "execution_count": 1,
   "metadata": {},
   "outputs": [],
   "source": [
    "import pandas as pd  # We'll do some more imports as we go along\n",
    "import numpy as np\n",
    "import seaborn as sns\n",
    "from sklearn.cluster import KMeans\n",
    "\n",
    "from sklearn.preprocessing import StandardScaler\n",
    "\n",
    "# You will have to import more modules as we go along."
   ]
  },
  {
   "cell_type": "code",
   "execution_count": 2,
   "metadata": {},
   "outputs": [],
   "source": [
    "# These are the files we are going to load initially\n",
    "fn_gdp_data = 'pcgdp_data.csv'\n",
    "fn_lit_data = 'literacy_data.csv'"
   ]
  },
  {
   "cell_type": "markdown",
   "metadata": {},
   "source": [
    "# Load in the data sets\n",
    "\n",
    "Let's load in our data sets.  **Open them as a text file.  Note how they look**.  You'll have to make some settings changes to the regular `read_csv` to get the data to be loaded correctly.\n",
    "\n",
    "For now make two data frames, one for the literacy data and one for the gdp data.\n"
   ]
  },
  {
   "cell_type": "code",
   "execution_count": 3,
   "metadata": {},
   "outputs": [],
   "source": [
    "# Load in our GDP data\n",
    "df_gdp = pd.read_csv(fn_gdp_data, skiprows=4, index_col=None)"
   ]
  },
  {
   "cell_type": "code",
   "execution_count": 4,
   "metadata": {},
   "outputs": [],
   "source": [
    "# Load in our population data\n",
    "df_lit = pd.read_csv(fn_lit_data, skiprows=4, index_col=None)\n",
    "\n",
    "##melting can build columns in same row"
   ]
  },
  {
   "cell_type": "markdown",
   "metadata": {},
   "source": [
    "We're interested in 2020 data only.  Merge the 2020 data into a single data frame.  You may use whatever column names you'd like, but in the end we want a data frame with three columns:\n",
    "+ Country Code (as the index)\n",
    "+ 2020 per capita GDP\n",
    "+ 2020 literacy rate"
   ]
  },
  {
   "cell_type": "code",
   "execution_count": 5,
   "metadata": {},
   "outputs": [],
   "source": [
    "# Let's merge these two data frames together\n",
    "df_merged=pd.concat([df_gdp['Country Code'], df_gdp['2020']], axis=1)\n",
    "df_merged.rename(columns={df_merged.columns[1]:\"2020 PC GDP\"},inplace=True)\n",
    "df_merged=pd.concat([df_merged, df_lit['2020']], axis=1)\n",
    "df_merged.rename(columns={df_merged.columns[2]:\"2020 Literacy\"},inplace=True)\n"
   ]
  },
  {
   "cell_type": "markdown",
   "metadata": {},
   "source": [
    "## Let's subset the data\n",
    "\n",
    "We only want countries that have data for both 2020 per capita and 2020 literacy.  So let's exclude any rows where either data column is a nan.\n",
    "\n",
    "There are many ways of doing this.  One way is to use Boolean vector operations to find just those rows that don't have NaN values in them for either the per capita GDP or literacy rate.\n",
    "\n",
    "For example, if your data frame was called `df_merged` you can use this code (provided your column labels match):\n",
    "    \n",
    "    good_rows = ~ (df_merged['2020 PC GDP'].isna() | df_merged['2020 Literacy'].isna())\n",
    "    df_merged = df_merged[good_rows]\n",
    "\n",
    "The | operator means \"logical OR\" and the ~ operator means \"negate\" or flip trues to falses and vise versa."
   ]
  },
  {
   "cell_type": "code",
   "execution_count": 6,
   "metadata": {},
   "outputs": [],
   "source": [
    "good_rows = ~ (df_merged['2020 PC GDP'].isna() | df_merged['2020 Literacy'].isna())\n",
    "df_merged = df_merged[good_rows]"
   ]
  },
  {
   "cell_type": "code",
   "execution_count": 7,
   "metadata": {},
   "outputs": [
    {
     "data": {
      "text/html": [
       "<div>\n",
       "<style scoped>\n",
       "    .dataframe tbody tr th:only-of-type {\n",
       "        vertical-align: middle;\n",
       "    }\n",
       "\n",
       "    .dataframe tbody tr th {\n",
       "        vertical-align: top;\n",
       "    }\n",
       "\n",
       "    .dataframe thead th {\n",
       "        text-align: right;\n",
       "    }\n",
       "</style>\n",
       "<table border=\"1\" class=\"dataframe\">\n",
       "  <thead>\n",
       "    <tr style=\"text-align: right;\">\n",
       "      <th></th>\n",
       "      <th>Country Code</th>\n",
       "      <th>2020 PC GDP</th>\n",
       "      <th>2020 Literacy</th>\n",
       "    </tr>\n",
       "  </thead>\n",
       "  <tbody>\n",
       "    <tr>\n",
       "      <th>7</th>\n",
       "      <td>ARB</td>\n",
       "      <td>5612.686570</td>\n",
       "      <td>82.977440</td>\n",
       "    </tr>\n",
       "    <tr>\n",
       "      <th>10</th>\n",
       "      <td>ARM</td>\n",
       "      <td>4266.018074</td>\n",
       "      <td>99.873817</td>\n",
       "    </tr>\n",
       "    <tr>\n",
       "      <th>20</th>\n",
       "      <td>BGD</td>\n",
       "      <td>1961.613749</td>\n",
       "      <td>94.461777</td>\n",
       "    </tr>\n",
       "    <tr>\n",
       "      <th>45</th>\n",
       "      <td>COL</td>\n",
       "      <td>5334.556042</td>\n",
       "      <td>99.011818</td>\n",
       "    </tr>\n",
       "    <tr>\n",
       "      <th>61</th>\n",
       "      <td>EAP</td>\n",
       "      <td>8254.670871</td>\n",
       "      <td>98.834969</td>\n",
       "    </tr>\n",
       "  </tbody>\n",
       "</table>\n",
       "</div>"
      ],
      "text/plain": [
       "   Country Code  2020 PC GDP  2020 Literacy\n",
       "7           ARB  5612.686570      82.977440\n",
       "10          ARM  4266.018074      99.873817\n",
       "20          BGD  1961.613749      94.461777\n",
       "45          COL  5334.556042      99.011818\n",
       "61          EAP  8254.670871      98.834969"
      ]
     },
     "execution_count": 7,
     "metadata": {},
     "output_type": "execute_result"
    }
   ],
   "source": [
    "#待删除\n",
    "df_merged.head()"
   ]
  },
  {
   "cell_type": "markdown",
   "metadata": {},
   "source": [
    "## Let's plot the data\n",
    "\n",
    "Let's do a scatter plot of our points to see what they look like.  We want the X axis to be the literacy in 2020 and the Y axis to be the GDP per capita in 2020."
   ]
  },
  {
   "cell_type": "code",
   "execution_count": 8,
   "metadata": {},
   "outputs": [
    {
     "data": {
      "text/plain": [
       "<AxesSubplot:xlabel='2020 Literacy', ylabel='2020 PC GDP'>"
      ]
     },
     "execution_count": 8,
     "metadata": {},
     "output_type": "execute_result"
    },
    {
     "data": {
      "image/png": "[encoded data removed]",
      "text/plain": [
       "<Figure size 432x288 with 1 Axes>"
      ]
     },
     "metadata": {
      "needs_background": "light"
     },
     "output_type": "display_data"
    }
   ],
   "source": [
    "sns.scatterplot(data=df_merged, x=df_merged['2020 Literacy'], y=df_merged['2020 PC GDP'])\n"
   ]
  },
  {
   "cell_type": "markdown",
   "metadata": {},
   "source": [
    "## Let's transform the data\n",
    "\n",
    "Looking at the scatter plot you should see some clusters that might be identifiable.  But you should also take a look at the individual attributes themselves.  Look at the large range on GDP compared to literacy.  One is somewhere between 0 and 100 and the other 0 to 25k.  If we were to use raw values here, clearly the GDP would be the determining factor for clustering.\n",
    "\n",
    "We need to transform our data to make sure it is scaled correctly for clustering.  There are a number of different ways to do this.  Today we are going to use a simple transformation called the [StandardScalar](https://scikit-learn.org/stable/modules/generated/sklearn.preprocessing.StandardScaler.html#sklearn.preprocessing.StandardScaler) that is part of SciKit Learn's preprocessing package.    Follow the example in the linked documentation to standardize the data we have.  We will be operating on this transformed data for our clustering analysis.\n",
    "\n",
    "Make a second scatterplot of this transformed data."
   ]
  },
  {
   "cell_type": "code",
   "execution_count": 23,
   "metadata": {},
   "outputs": [],
   "source": [
    "# Use StandardScalar to transform our data\n",
    "scalar = StandardScaler()\n",
    "scalar_data=scalar.fit_transform(df_merged[['2020 Literacy', '2020 PC GDP']])"
   ]
  },
  {
   "cell_type": "code",
   "execution_count": 8,
   "metadata": {},
   "outputs": [
    {
     "data": {
      "text/plain": [
       "<AxesSubplot:>"
      ]
     },
     "execution_count": 8,
     "metadata": {},
     "output_type": "execute_result"
    },
    {
     "data": {
      "image/png": "[encoded data removed]",
      "text/plain": [
       "<Figure size 432x288 with 1 Axes>"
      ]
     },
     "metadata": {
      "needs_background": "light"
     },
     "output_type": "display_data"
    }
   ],
   "source": [
    "# Make a scatterplot of the transformed data\n",
    "sns.scatterplot(x=scalar_data[:,0], y=scalar_data[:,1])\n"
   ]
  },
  {
   "cell_type": "markdown",
   "metadata": {},
   "source": [
    "## Clustering our transformed data\n",
    "\n",
    "Now that we've transformed (standardized) our data, we can go about trying to cluster.  We will use each of the three methods we've learned about to accomplish this.\n",
    "\n",
    "There is no \"best\" way to cluster data.  It's an art and which method we use depends on the types of questions we are going to be asking.\n",
    "\n",
    "Here we're just going to use all the methods to demonstrate how they differ in use."
   ]
  },
  {
   "cell_type": "markdown",
   "metadata": {},
   "source": [
    "### K-Means\n",
    "\n",
    "I would like you to run a K-Means clustering analysis.\n",
    "\n",
    "Assay over K of 2 to 8 inclusive.  You may use the default settings in scikit learn for KMeans.\n",
    "\n",
    "I want you to produce a SSE plot that shows how SEE changes as the value of K increases.  This means you will have to collect the final SEE for each K we use. (It's the attribute inertia_ which is available after you call fit.)  \n",
    "\n",
    "Then I would like you to pick what looks like (on the diagnostic plot) a reasonable K.\n",
    "\n",
    "Make a scatterplot of the transformed data colored by the cluster label.  (Once you run fit the attribute labels_ becomes available that will give you the label number.  You can pass this vector as a hue argument to scatterplot.)\n",
    "\n",
    "I'd also like you to draw the centroid centers as well, so collect that data for your \"best K\" by collecting its cluster_centers_ attribute that becomes available after you call `fit`.\n"
   ]
  },
  {
   "cell_type": "code",
   "execution_count": 11,
   "metadata": {},
   "outputs": [
    {
     "data": {
      "text/plain": [
       "Text(0, 0.5, 'SSE')"
      ]
     },
     "execution_count": 11,
     "metadata": {},
     "output_type": "execute_result"
    },
    {
     "data": {
      "image/png": "[encoded data removed]",
      "text/plain": [
       "<Figure size 432x288 with 1 Axes>"
      ]
     },
     "metadata": {
      "needs_background": "light"
     },
     "output_type": "display_data"
    }
   ],
   "source": [
    "# Assay over K and plot the best SSE as a function of K to find which K to use\n",
    "sse={}\n",
    "centroids={}\n",
    "labels={}\n",
    "\n",
    "for k in range (2,9):\n",
    "    cluster_km = KMeans(n_clusters=k)\n",
    "    cluster_km.fit(scalar_data)\n",
    "    sse[k] = cluster_km.inertia_\n",
    "    centroids[k] = cluster_km.cluster_centers_\n",
    "    labels[k]=cluster_km.labels_\n",
    "\n",
    "ax=sns.lineplot(x=sse.keys(), y=sse.values())\n",
    "ax.set_xlabel('k')\n",
    "ax.set_ylabel('SSE')\n"
   ]
  },
  {
   "cell_type": "code",
   "execution_count": 13,
   "metadata": {},
   "outputs": [
    {
     "data": {
      "text/plain": [
       "<AxesSubplot:>"
      ]
     },
     "execution_count": 13,
     "metadata": {},
     "output_type": "execute_result"
    },
    {
     "data": {
      "image/png": "[encoded data removed]",
      "text/plain": [
       "<Figure size 432x288 with 1 Axes>"
      ]
     },
     "metadata": {
      "needs_background": "light"
     },
     "output_type": "display_data"
    }
   ],
   "source": [
    "# Using the \"best\" K, plot the transformed data with the \n",
    "# hue being the label color (from the labels_ attribute of the model you fit)\n",
    "# You can plot the centroids by using the values in cluster_centers_ \n",
    "sns.scatterplot(x=scalar_data[:,0], y=scalar_data[:,1], hue=labels[5])\n",
    "sns.scatterplot(x=centroids[5][:,0], y=centroids[5][:,1], color='g', marker='*', s=800)\n"
   ]
  },
  {
   "cell_type": "markdown",
   "metadata": {},
   "source": [
    "### Agglomerative clustering\n",
    "\n",
    "Agglomerative clustering builds a tree (dendogram) by successively combining points and groups of points together until a single tree/cluster is produced.  We an then examine this dendogram to figure out how many clusters we might use.\n",
    "\n",
    "First follow the instructions for Agglomerative Clustering you'll find on the [documentation page](https://scikit-learn.org/stable/modules/generated/sklearn.cluster.AgglomerativeClustering.html) for it.  We will set `n_clusters` after we take a look at the dendogram produced, so set it to `None` for now.  Also set `distance_threshold` to 0.\n",
    "\n",
    "Make sure you are operating on the transformed data.\n",
    "\n",
    "Import `plot_dendogram` from the `demo_tools` module included with today's exercise.  Simply pass in the AgglomerativeClustering model you fit to plot the denodgram.\n",
    "\n",
    "Which `linkage` method should you use?  What should the `distance_threshold` be in your final clustering?  Use the denodgram and adjust the linkage setting to find one that looks like it works best for this data.  (For me `single` linkage worked best.  But you do have to look at the dendogram to find a good `distance_threshold` for which ever method you choose.)\n",
    "\n"
   ]
  },
  {
   "cell_type": "code",
   "execution_count": 28,
   "metadata": {},
   "outputs": [
    {
     "data": {
      "image/png": "[encoded data removed]",
      "text/plain": [
       "<Figure size 432x288 with 1 Axes>"
      ]
     },
     "metadata": {
      "needs_background": "light"
     },
     "output_type": "display_data"
    }
   ],
   "source": [
    "# Create a full dendogram for the clusters and plot it\n",
    "from sklearn.cluster import AgglomerativeClustering\n",
    "from demo_tools import plot_dendogram\n",
    "\n",
    "model_agg = AgglomerativeClustering(n_clusters=None, distance_threshold=0, linkage='single')\n",
    "model_agg.fit(scalar_data) #after running fir, we get our labels\n",
    "plot_dendogram(model_agg)\n",
    "\n",
    "# n_clusters=None because I wanna whole tree\n",
    "# subplot() combination of plots"
   ]
  },
  {
   "cell_type": "markdown",
   "metadata": {},
   "source": [
    "From your results above, you should see some natural places to cut our dendogram by examining either how many clusters we expect or setting a threshold distance, or how far away clusters should be.  Using which ever method you'd like, let's create our final agglomerative clustering.\n",
    "\n",
    "Make a scatter plot of the transformed data and use the labels found from the clustering to color the points."
   ]
  },
  {
   "cell_type": "code",
   "execution_count": 38,
   "metadata": {},
   "outputs": [
    {
     "data": {
      "text/plain": [
       "<AxesSubplot:>"
      ]
     },
     "execution_count": 38,
     "metadata": {},
     "output_type": "execute_result"
    },
    {
     "data": {
      "image/png": "[encoded data removed]",
      "text/plain": [
       "<Figure size 432x288 with 1 Axes>"
      ]
     },
     "metadata": {
      "needs_background": "light"
     },
     "output_type": "display_data"
    }
   ],
   "source": [
    "# Plot the \"good\" clustering you found\n",
    "# as a scatterplot of the transformed data\n",
    "# with the hue being based on the labels_ found\n",
    "model_agg = AgglomerativeClustering(n_clusters=None, distance_threshold=0.7, linkage='single')\n",
    "model_agg.fit(scalar_data)\n",
    "\n",
    "sns.scatterplot(x=scalar_data[:,0], y=scalar_data[:,1], hue=model_agg.labels_, palette='Paired')\n"
   ]
  },
  {
   "cell_type": "markdown",
   "metadata": {},
   "source": [
    "## DBSCAN\n",
    "\n",
    "Our last clustering will be to use DBSCAN to perform the clustering.  Just as the previous two clustering algorithms required us to explore our results to find the a \"good\" set of parameter(s) for the clustering, we need to take a look at `eps` and `min_samples` to find good values for the clustering.  You can read the [documentation](https://scikit-learn.org/stable/modules/generated/sklearn.cluster.DBSCAN.html) for examples of how to use it.\n",
    "\n",
    "But before we begin, let's take a look at all pairwise distances.  This will help us pick an `eps`.  Read the directions for `pairwise-distances` from the sklearn.metrics module.  Plot these distances using a seaborn `displot` with `kde=True` to see the curve.. You may need to call `flatten()` on the distance matrix you receive from `pairwise-distances` to get it to plot.\n",
    "\n",
    "As for `min_samples`?  What is the smallest cluster size you'll allow?  This is up to you.  Points that don't belong to any cluster are considered outliers.\n",
    "\n",
    "The purpose of the plot is to find a good `eps`, so we are looking for small values that are frequent.  These values are usually found near 0.  Examine the histogram and find a pairwise distance cut off.  It should be at a point in the graph where pairwise distances are separable (the valley between peaks in the plot). You may need to adjust the number of bins or filter your data to include only smaller values to get the resolution necessary for this task.\n",
    "\n"
   ]
  },
  {
   "cell_type": "markdown",
   "metadata": {},
   "source": []
  },
  {
   "cell_type": "code",
   "execution_count": 13,
   "metadata": {},
   "outputs": [
    {
     "data": {
      "text/plain": [
       "<seaborn.axisgrid.FacetGrid at 0x23aa40a5ca0>"
      ]
     },
     "execution_count": 13,
     "metadata": {},
     "output_type": "execute_result"
    },
    {
     "data": {
      "image/png": "[encoded data removed]",
      "text/plain": [
       "<Figure size 360x360 with 1 Axes>"
      ]
     },
     "metadata": {
      "needs_background": "light"
     },
     "output_type": "display_data"
    }
   ],
   "source": [
    "# Calculate all pairwise distances\n",
    "# and make a displot to find a good value of eps\n",
    "from sklearn.metrics import pairwise_distances\n",
    "pair_data=pairwise_distances(scalar_data)\n",
    "sns.displot(pair_data.flatten(), bins=50, kde=True)\n",
    "\n",
    "#45.19"
   ]
  },
  {
   "cell_type": "code",
   "execution_count": 14,
   "metadata": {},
   "outputs": [
    {
     "data": {
      "text/plain": [
       "<AxesSubplot:>"
      ]
     },
     "execution_count": 14,
     "metadata": {},
     "output_type": "execute_result"
    },
    {
     "data": {
      "image/png": "[encoded data removed]",
      "text/plain": [
       "<Figure size 432x288 with 1 Axes>"
      ]
     },
     "metadata": {
      "needs_background": "light"
     },
     "output_type": "display_data"
    }
   ],
   "source": [
    "# Cluster using DBSCAN with the eps and min_samples you've decided upon\n",
    "# Then make a scatterplot of the transformed data labeled by the labelings\n",
    "# DBSCAN found\n",
    "from sklearn.cluster import DBSCAN\n",
    "cluster_db = DBSCAN()\n",
    "cluster_db.fit(scalar_data)\n",
    "sns.scatterplot(y=scalar_data[:,0], x=scalar_data[:,1], hue=cluster_db.labels_, palette='Paired')\n"
   ]
  },
  {
   "cell_type": "code",
   "execution_count": null,
   "metadata": {},
   "outputs": [],
   "source": [
    "##### solution:\n",
    "df_gdp = pd.read_csv(fn_gdp_data, skiprows=1, header=1)"
   ]
  },
  {
   "cell_type": "code",
   "execution_count": 15,
   "metadata": {},
   "outputs": [
    {
     "data": {
      "text/html": [
       "<div>\n",
       "<style scoped>\n",
       "    .dataframe tbody tr th:only-of-type {\n",
       "        vertical-align: middle;\n",
       "    }\n",
       "\n",
       "    .dataframe tbody tr th {\n",
       "        vertical-align: top;\n",
       "    }\n",
       "\n",
       "    .dataframe thead th {\n",
       "        text-align: right;\n",
       "    }\n",
       "</style>\n",
       "<table border=\"1\" class=\"dataframe\">\n",
       "  <thead>\n",
       "    <tr style=\"text-align: right;\">\n",
       "      <th></th>\n",
       "      <th>2020 PC GDP</th>\n",
       "      <th>2020 Literacy</th>\n",
       "    </tr>\n",
       "    <tr>\n",
       "      <th>Country Code</th>\n",
       "      <th></th>\n",
       "      <th></th>\n",
       "    </tr>\n",
       "  </thead>\n",
       "  <tbody>\n",
       "    <tr>\n",
       "      <th>ABW</th>\n",
       "      <td>NaN</td>\n",
       "      <td>NaN</td>\n",
       "    </tr>\n",
       "    <tr>\n",
       "      <th>AFE</th>\n",
       "      <td>1359.618224</td>\n",
       "      <td>NaN</td>\n",
       "    </tr>\n",
       "    <tr>\n",
       "      <th>AFG</th>\n",
       "      <td>516.747871</td>\n",
       "      <td>NaN</td>\n",
       "    </tr>\n",
       "    <tr>\n",
       "      <th>AFW</th>\n",
       "      <td>1710.073363</td>\n",
       "      <td>NaN</td>\n",
       "    </tr>\n",
       "    <tr>\n",
       "      <th>AGO</th>\n",
       "      <td>1776.166868</td>\n",
       "      <td>NaN</td>\n",
       "    </tr>\n",
       "  </tbody>\n",
       "</table>\n",
       "</div>"
      ],
      "text/plain": [
       "              2020 PC GDP  2020 Literacy\n",
       "Country Code                            \n",
       "ABW                   NaN            NaN\n",
       "AFE           1359.618224            NaN\n",
       "AFG            516.747871            NaN\n",
       "AFW           1710.073363            NaN\n",
       "AGO           1776.166868            NaN"
      ]
     },
     "execution_count": 15,
     "metadata": {},
     "output_type": "execute_result"
    }
   ],
   "source": [
    "##### solution:\n",
    "df_merged = pd.DataFrame()\n",
    "df_merged['Country Code'] = df_lit['Country Code']\n",
    "df_merged['2020 PC GDP'] = df_gdp['2020']\n",
    "df_merged['2020 Literacy'] = df_lit['2020']\n",
    "df_merged.set_index('Country Code', inplace=True)\n",
    "df_merged.head()\n",
    "\n"
   ]
  },
  {
   "cell_type": "code",
   "execution_count": null,
   "metadata": {},
   "outputs": [],
   "source": [
    "df_merged.isna().sum(axis=0)"
   ]
  },
  {
   "cell_type": "code",
   "execution_count": 16,
   "metadata": {},
   "outputs": [
    {
     "data": {
      "text/plain": [
       "52"
      ]
     },
     "execution_count": 16,
     "metadata": {},
     "output_type": "execute_result"
    }
   ],
   "source": [
    "np.sum(df_merged.isna().sum(axis=1) == 0)"
   ]
  },
  {
   "cell_type": "code",
   "execution_count": 18,
   "metadata": {},
   "outputs": [],
   "source": [
    "has_both = df_merged.isna().sum(axis=1) == 0\n",
    "df_merged=df_merged[has_both]"
   ]
  },
  {
   "cell_type": "code",
   "execution_count": 19,
   "metadata": {},
   "outputs": [
    {
     "name": "stdout",
     "output_type": "stream",
     "text": [
      "<class 'pandas.core.frame.DataFrame'>\n",
      "Index: 52 entries, ARB to WLD\n",
      "Data columns (total 2 columns):\n",
      " #   Column         Non-Null Count  Dtype  \n",
      "---  ------         --------------  -----  \n",
      " 0   2020 PC GDP    52 non-null     float64\n",
      " 1   2020 Literacy  52 non-null     float64\n",
      "dtypes: float64(2)\n",
      "memory usage: 1.2+ KB\n"
     ]
    }
   ],
   "source": [
    "df_merged.info()"
   ]
  },
  {
   "cell_type": "code",
   "execution_count": 31,
   "metadata": {},
   "outputs": [
    {
     "data": {
      "image/png": "[encoded data removed]",
      "text/plain": [
       "<Figure size 432x288 with 1 Axes>"
      ]
     },
     "metadata": {
      "needs_background": "light"
     },
     "output_type": "display_data"
    }
   ],
   "source": [
    "ax = sns.scatterplot(data=df_merged, y='2020 PC GDP', x='2020 Literacy')\n",
    "ax.set_xlabel('Literacy 2020')\n",
    "ax.set_ylabel('PC GDP 2020')\n",
    "ax.set_title('PC GDP vs Literacy (2020)');\n"
   ]
  },
  {
   "cell_type": "code",
   "execution_count": 30,
   "metadata": {},
   "outputs": [
    {
     "data": {
      "image/png": "[encoded data removed]",
      "text/plain": [
       "<Figure size 432x288 with 1 Axes>"
      ]
     },
     "metadata": {
      "needs_background": "light"
     },
     "output_type": "display_data"
    }
   ],
   "source": [
    "scalar = StandardScaler()\n",
    "scalar.fit(df_merged);\n",
    "trans = scalar.transform(df_merged);\n",
    "\n",
    "ax = sns.scatterplot(x=trans[:,1], y=trans[:,0])\n",
    "ax.set_xlabel('Literacy 2020')\n",
    "ax.set_ylabel('PC GDP 2020')\n",
    "ax.set_title('PC GDP vs Literacy (2020)');"
   ]
  },
  {
   "cell_type": "code",
   "execution_count": null,
   "metadata": {},
   "outputs": [],
   "source": [
    "from sklearn.cluster import KMeans\n",
    "best_sse = {}\n",
    "km_lables = {}\n",
    "centroids = {}\n",
    "\n",
    "for k in range (2,9):\n",
    "    cluster_km = KMeans(n_clusters=k)\n",
    "    cluster_km.fit(trans)\n",
    "    best_sse[k] = cluster_km.inertia_\n",
    "    km_lables[k] = cluster_km.labels_\n",
    "#........."
   ]
  },
  {
   "cell_type": "markdown",
   "metadata": {},
   "source": [
    "linkage: measure distance (min, max, average)"
   ]
  },
  {
   "cell_type": "code",
   "execution_count": null,
   "metadata": {},
   "outputs": [],
   "source": [
    "# Cluster using DBSCAN with the eps and min_samples you've decided upon\n",
    "# Then make a scatterplot of the transformed data labeled by the labelings\n",
    "# DBSCAN found\n",
    "from sklearn.cluster import DBSCAN\n",
    "cluster_db = DBSCAN(eps = 0.4, min_samples = 3)\n",
    "cluster_db.fit(scalar_data)\n",
    "sns.scatterplot(y=scalar_data[:,0], x=scalar_data[:,1], hue=cluster_db.labels_)\n"
   ]
  },
  {
   "cell_type": "markdown",
   "metadata": {},
   "source": [
    "clusters are sentitive to distance, so we transform data"
   ]
  }
 ],
 "metadata": {
  "interpreter": {
   "hash": "7d87b78273520671e160d525fe6b224904c24d013cc3fb4c734a3a45961893a0"
  },
  "kernelspec": {
   "display_name": "Python 3.9.7 ('cse801')",
   "language": "python",
   "name": "python3"
  },
  "language_info": {
   "codemirror_mode": {
    "name": "ipython",
    "version": 3
   },
   "file_extension": ".py",
   "mimetype": "text/x-python",
   "name": "python",
   "nbconvert_exporter": "python",
   "pygments_lexer": "ipython3",
   "version": "3.9.7"
  },
  "orig_nbformat": 4
 },
 "nbformat": 4,
 "nbformat_minor": 2
}
