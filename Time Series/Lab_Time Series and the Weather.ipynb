{
 "cells": [
  {
   "cell_type": "markdown",
   "metadata": {},
   "source": [
    "# Lab06: Time Series in Pandas"
   ]
  },
  {
   "cell_type": "markdown",
   "metadata": {},
   "source": [
    "## Temperature Time Series\n",
    "\n",
    "I would like you to download the LAN-WX.csv file into your working directory for this notebook and use it for today's exercise.  Provided the page is up (it wasn't earlier), you can find documentation about each of the columns in the CSV file here: \n",
    "https://www1.ncdc.noaa.gov/pub/data/cdo/documentation/GHCND_documentation.pdf\n",
    "\n",
    "For the purposes of our exercise, we are most interested in these columns:\n",
    "* DATE\n",
    "* TMIN the minimum daily temperature\n",
    "* TMAX the maximum daily temperature\n",
    "\n",
    "I would like you to do the following:\n",
    "* As with today's lecture, convert the DATE column into a temporal-based index for the data frame.\n",
    "* Using this and the methods from today, I'd like you to do the following:\n",
    "    1. Display a table that shows the maximum daily temperatures for each month in the year 2013.\n",
    "    2. Find the maximum temperature in Lansing for the day of your birth and each birthday thereafter and plot it as a violin plot and histogram using Seaborn.\n",
    "    3. Find the decade maximum high and low temperature from 1950.  Plot both the maximum and minimum values as a single line plot.\n",
    "    4. This class started on Jaunary 11, 2022 and runs for 16 weeks. It meets on Mondays and Wednesdays. Use boxplots to plot the historical distribution from 1960 onward of high temperatures for each date we meet this semester.  In other words, plot the range of maximum temperatures for each (month,day) value in the 2020 course calendar across all years from 1960 onward.\n",
    "    5. The number of 90&deg;F days per year are often used to describe climate change.  Plot the average number of 90&deg;F days as a rolling average over 5 years across the entire data set. \n",
    "    \n",
    "**Create markdown cells to annotate your work using the directions above to create cells with level-2 headings** and the descriptions above in them.  (You do remember your Markdown?)\n",
    "\n",
    "Note:  You will likely have to use Google and the Pandas documnetation quite a bit to answer the questions above.  This is normal!  "
   ]
  },
  {
   "cell_type": "code",
   "execution_count": 1,
   "metadata": {},
   "outputs": [],
   "source": [
    "import pandas as pd\n",
    "import datetime\n",
    "import dateutil\n",
    "import seaborn as sns\n",
    "import matplotlib.pyplot as plt\n",
    "import numpy as np"
   ]
  },
  {
   "cell_type": "markdown",
   "metadata": {},
   "source": [
    "## Load in the weather data\n",
    "\n",
    "Load in the `LAN-WX.csv` file into a data frame, keeping just the DATE, TMIN, and TMAX columns.\n",
    "\n",
    "Make `DATE` the index; convert it to daily periods.  You may drop the additional DATE column when you set it as the index.  (See set_index for more information)"
   ]
  },
  {
   "cell_type": "code",
   "execution_count": 2,
   "metadata": {},
   "outputs": [],
   "source": [
    "fn_wx='LAN-WX.csv'\n",
    "df_wx=pd.read_csv(fn_wx, index_col=False)[['DATE','TMIN','TMAX']]\n",
    "df_wx['DATE'] =pd.to_datetime(df_wx['DATE'])\n",
    "df_wx.set_index('DATE', inplace=True) #convert index into DATE\n"
   ]
  },
  {
   "cell_type": "code",
   "execution_count": 12,
   "metadata": {},
   "outputs": [
    {
     "data": {
      "text/html": [
       "<div>\n",
       "<style scoped>\n",
       "    .dataframe tbody tr th:only-of-type {\n",
       "        vertical-align: middle;\n",
       "    }\n",
       "\n",
       "    .dataframe tbody tr th {\n",
       "        vertical-align: top;\n",
       "    }\n",
       "\n",
       "    .dataframe thead th {\n",
       "        text-align: right;\n",
       "    }\n",
       "</style>\n",
       "<table border=\"1\" class=\"dataframe\">\n",
       "  <thead>\n",
       "    <tr style=\"text-align: right;\">\n",
       "      <th></th>\n",
       "      <th>TMIN</th>\n",
       "      <th>TMAX</th>\n",
       "    </tr>\n",
       "    <tr>\n",
       "      <th>DATE</th>\n",
       "      <th></th>\n",
       "      <th></th>\n",
       "    </tr>\n",
       "  </thead>\n",
       "  <tbody>\n",
       "    <tr>\n",
       "      <th>1950-01-01</th>\n",
       "      <td>38.0</td>\n",
       "      <td>45.0</td>\n",
       "    </tr>\n",
       "    <tr>\n",
       "      <th>1950-01-02</th>\n",
       "      <td>44.0</td>\n",
       "      <td>49.0</td>\n",
       "    </tr>\n",
       "    <tr>\n",
       "      <th>1950-01-03</th>\n",
       "      <td>49.0</td>\n",
       "      <td>58.0</td>\n",
       "    </tr>\n",
       "    <tr>\n",
       "      <th>1950-01-04</th>\n",
       "      <td>19.0</td>\n",
       "      <td>53.0</td>\n",
       "    </tr>\n",
       "    <tr>\n",
       "      <th>1950-01-05</th>\n",
       "      <td>20.0</td>\n",
       "      <td>25.0</td>\n",
       "    </tr>\n",
       "  </tbody>\n",
       "</table>\n",
       "</div>"
      ],
      "text/plain": [
       "            TMIN  TMAX\n",
       "DATE                  \n",
       "1950-01-01  38.0  45.0\n",
       "1950-01-02  44.0  49.0\n",
       "1950-01-03  49.0  58.0\n",
       "1950-01-04  19.0  53.0\n",
       "1950-01-05  20.0  25.0"
      ]
     },
     "execution_count": 12,
     "metadata": {},
     "output_type": "execute_result"
    }
   ],
   "source": [
    "df_wx.set_index(df_wx.index.to_period('D'), inplace=True) \n",
    "df_wx.head()"
   ]
  },
  {
   "cell_type": "markdown",
   "metadata": {},
   "source": [
    "## Display a table that shows the maximum daily temperatures for each month in the year 2013"
   ]
  },
  {
   "cell_type": "code",
   "execution_count": 4,
   "metadata": {},
   "outputs": [
    {
     "data": {
      "text/plain": [
       "<AxesSubplot:>"
      ]
     },
     "execution_count": 4,
     "metadata": {},
     "output_type": "execute_result"
    },
    {
     "data": {
      "image/png": "[encoded data removed]",
      "text/plain": [
       "<Figure size 432x288 with 1 Axes>"
      ]
     },
     "metadata": {
      "needs_background": "light"
     },
     "output_type": "display_data"
    }
   ],
   "source": [
    "\n",
    "a_range = pd.period_range('01/1/2013', '12/31/2013', freq='M')\n",
    "ndf=df_wx.resample('M').max()\n",
    "ndf.loc[a_range, 'TMAX'].plot()\n"
   ]
  },
  {
   "cell_type": "markdown",
   "metadata": {},
   "source": [
    "## Find the maximum temperature in Lansing for the day of your birth and each birthday thereafter"
   ]
  },
  {
   "cell_type": "markdown",
   "metadata": {},
   "source": []
  },
  {
   "cell_type": "markdown",
   "metadata": {},
   "source": [
    " Plot it as a violin plot using Seaborn."
   ]
  },
  {
   "cell_type": "code",
   "execution_count": 5,
   "metadata": {},
   "outputs": [
    {
     "data": {
      "text/plain": [
       "<AxesSubplot:xlabel='TMAX'>"
      ]
     },
     "execution_count": 5,
     "metadata": {},
     "output_type": "execute_result"
    },
    {
     "data": {
      "image/png": "[encoded data removed]",
      "text/plain": [
       "<Figure size 432x288 with 1 Axes>"
      ]
     },
     "metadata": {
      "needs_background": "light"
     },
     "output_type": "display_data"
    }
   ],
   "source": [
    "b_range=pd.date_range('8/1/1996',periods=24, freq=pd.DateOffset(months=12))\n",
    "b_range=b_range.to_period('D')  #datetime --> period\n",
    "b_data=df_wx.loc[b_range]\n",
    "sns.violinplot(data=b_data, x='TMAX')\n"
   ]
  },
  {
   "cell_type": "markdown",
   "metadata": {},
   "source": [
    "Using the same data, create a histogram using seaborn's `histplot` method."
   ]
  },
  {
   "cell_type": "code",
   "execution_count": 6,
   "metadata": {},
   "outputs": [
    {
     "data": {
      "text/plain": [
       "<AxesSubplot:xlabel='TMAX', ylabel='Count'>"
      ]
     },
     "execution_count": 6,
     "metadata": {},
     "output_type": "execute_result"
    },
    {
     "data": {
      "image/png": "[encoded data removed]",
      "text/plain": [
       "<Figure size 432x288 with 1 Axes>"
      ]
     },
     "metadata": {
      "needs_background": "light"
     },
     "output_type": "display_data"
    }
   ],
   "source": [
    "sns.histplot(data=b_data, x='TMAX')"
   ]
  },
  {
   "cell_type": "markdown",
   "metadata": {},
   "source": [
    "## Find the decade maximum high and low temperature from 1950.  Plot both the maximum and minimum values as a single line plot."
   ]
  },
  {
   "cell_type": "code",
   "execution_count": 7,
   "metadata": {},
   "outputs": [
    {
     "data": {
      "text/html": [
       "<div>\n",
       "<style scoped>\n",
       "    .dataframe tbody tr th:only-of-type {\n",
       "        vertical-align: middle;\n",
       "    }\n",
       "\n",
       "    .dataframe tbody tr th {\n",
       "        vertical-align: top;\n",
       "    }\n",
       "\n",
       "    .dataframe thead tr th {\n",
       "        text-align: left;\n",
       "    }\n",
       "\n",
       "    .dataframe thead tr:last-of-type th {\n",
       "        text-align: right;\n",
       "    }\n",
       "</style>\n",
       "<table border=\"1\" class=\"dataframe\">\n",
       "  <thead>\n",
       "    <tr>\n",
       "      <th></th>\n",
       "      <th colspan=\"2\" halign=\"left\">TMIN</th>\n",
       "      <th colspan=\"2\" halign=\"left\">TMAX</th>\n",
       "    </tr>\n",
       "    <tr>\n",
       "      <th></th>\n",
       "      <th>max</th>\n",
       "      <th>min</th>\n",
       "      <th>max</th>\n",
       "      <th>min</th>\n",
       "    </tr>\n",
       "    <tr>\n",
       "      <th>DATE</th>\n",
       "      <th></th>\n",
       "      <th></th>\n",
       "      <th></th>\n",
       "      <th></th>\n",
       "    </tr>\n",
       "  </thead>\n",
       "  <tbody>\n",
       "    <tr>\n",
       "      <th>1950-12-31</th>\n",
       "      <td>70.0</td>\n",
       "      <td>-4.0</td>\n",
       "      <td>90.0</td>\n",
       "      <td>10.0</td>\n",
       "    </tr>\n",
       "    <tr>\n",
       "      <th>1960-12-31</th>\n",
       "      <td>77.0</td>\n",
       "      <td>-14.0</td>\n",
       "      <td>97.0</td>\n",
       "      <td>8.0</td>\n",
       "    </tr>\n",
       "    <tr>\n",
       "      <th>1970-12-31</th>\n",
       "      <td>76.0</td>\n",
       "      <td>-24.0</td>\n",
       "      <td>100.0</td>\n",
       "      <td>4.0</td>\n",
       "    </tr>\n",
       "    <tr>\n",
       "      <th>1980-12-31</th>\n",
       "      <td>77.0</td>\n",
       "      <td>-25.0</td>\n",
       "      <td>99.0</td>\n",
       "      <td>-3.0</td>\n",
       "    </tr>\n",
       "    <tr>\n",
       "      <th>1990-12-31</th>\n",
       "      <td>76.0</td>\n",
       "      <td>-29.0</td>\n",
       "      <td>100.0</td>\n",
       "      <td>-1.0</td>\n",
       "    </tr>\n",
       "    <tr>\n",
       "      <th>2000-12-31</th>\n",
       "      <td>77.0</td>\n",
       "      <td>-25.0</td>\n",
       "      <td>98.0</td>\n",
       "      <td>-2.0</td>\n",
       "    </tr>\n",
       "    <tr>\n",
       "      <th>2010-12-31</th>\n",
       "      <td>78.0</td>\n",
       "      <td>-18.0</td>\n",
       "      <td>97.0</td>\n",
       "      <td>4.0</td>\n",
       "    </tr>\n",
       "    <tr>\n",
       "      <th>2020-12-31</th>\n",
       "      <td>77.0</td>\n",
       "      <td>-16.0</td>\n",
       "      <td>103.0</td>\n",
       "      <td>1.0</td>\n",
       "    </tr>\n",
       "  </tbody>\n",
       "</table>\n",
       "</div>"
      ],
      "text/plain": [
       "            TMIN         TMAX      \n",
       "             max   min    max   min\n",
       "DATE                               \n",
       "1950-12-31  70.0  -4.0   90.0  10.0\n",
       "1960-12-31  77.0 -14.0   97.0   8.0\n",
       "1970-12-31  76.0 -24.0  100.0   4.0\n",
       "1980-12-31  77.0 -25.0   99.0  -3.0\n",
       "1990-12-31  76.0 -29.0  100.0  -1.0\n",
       "2000-12-31  77.0 -25.0   98.0  -2.0\n",
       "2010-12-31  78.0 -18.0   97.0   4.0\n",
       "2020-12-31  77.0 -16.0  103.0   1.0"
      ]
     },
     "execution_count": 7,
     "metadata": {},
     "output_type": "execute_result"
    }
   ],
   "source": [
    "df_wx=pd.read_csv(fn_wx, index_col=False)[['DATE','TMIN','TMAX']]\n",
    "df_wx['DATE'] =pd.to_datetime(df_wx['DATE'])\n",
    "df_wx.set_index('DATE', inplace=True) #convert index into DATE<datetime>\n",
    "\n",
    "data=df_wx.resample('10A').agg(['max', 'min'])\n",
    "data"
   ]
  },
  {
   "cell_type": "code",
   "execution_count": 8,
   "metadata": {},
   "outputs": [
    {
     "data": {
      "text/plain": [
       "Text(0, 0.5, 'Temperature')"
      ]
     },
     "execution_count": 8,
     "metadata": {},
     "output_type": "execute_result"
    },
    {
     "data": {
      "image/png": "[encoded data removed]",
      "text/plain": [
       "<Figure size 432x288 with 1 Axes>"
      ]
     },
     "metadata": {
      "needs_background": "light"
     },
     "output_type": "display_data"
    }
   ],
   "source": [
    "plt.figure()\n",
    "sns.lineplot(data=data, x='DATE', y=data['TMIN']['min'], label='min', estimator=None)\n",
    "sns.lineplot(data=data, x='DATE', y=data['TMAX']['max'], label='max', estimator=None)\n",
    "plt.ylabel('Temperature')"
   ]
  },
  {
   "cell_type": "markdown",
   "metadata": {},
   "source": [
    "## Boxplots of class day max temps\n",
    "\n",
    "This class started on Jaunary 11, 2022 and runs for 16 weeks. It meets on Mondays and Wednesdays. Use boxplots to plot the historical distribution from 1960 onward of high temperatures for each date we meet this semester.  In other words, plot the range of maximum temperatures for each (month,day) value in the 2020 course calendar across all years from 1960 onward.\n",
    "\n",
    "\n",
    "First find the date_range for the Mondays we meet in 2020 (including spring break).  Then `union` that with the date range for the Wendesdays of the semester."
   ]
  },
  {
   "cell_type": "code",
   "execution_count": null,
   "metadata": {},
   "outputs": [],
   "source": [
    "df_wx=pd.read_csv(fn_wx, index_col=False)[['DATE','TMIN','TMAX']]\n",
    "df_wx['DATE'] =pd.to_datetime(df_wx['DATE'])\n",
    "df_wx.set_index('DATE', inplace=True) #convert index into DATE<datetime>\n",
    "\n",
    "#df_wx.set_index(df_wx.index.to_period('D'), inplace=True) "
   ]
  },
  {
   "cell_type": "code",
   "execution_count": 11,
   "metadata": {},
   "outputs": [
    {
     "data": {
      "text/plain": [
       "DatetimeIndex(['2019-01-11', '2019-01-13', '2019-01-18', '2019-01-20',\n",
       "               '2019-01-25', '2019-01-27', '2019-02-01', '2019-02-03',\n",
       "               '2019-02-08', '2019-02-10', '2019-02-15', '2019-02-17',\n",
       "               '2019-02-22', '2019-02-24', '2019-03-01', '2019-03-03',\n",
       "               '2019-03-08', '2019-03-10', '2019-03-15', '2019-03-17',\n",
       "               '2019-03-22', '2019-03-24', '2019-03-29', '2019-03-31',\n",
       "               '2019-04-05', '2019-04-07', '2019-04-12', '2019-04-14',\n",
       "               '2019-04-19', '2019-04-21', '2019-04-26', '2019-04-28'],\n",
       "              dtype='datetime64[ns]', freq=None)"
      ]
     },
     "execution_count": 11,
     "metadata": {},
     "output_type": "execute_result"
    }
   ],
   "source": [
    "mon_range = pd.date_range('1/11/2019',periods=16, freq=pd.offsets.Week())\n",
    "wen_range = pd.date_range('1/13/2019',periods=16, freq=pd.offsets.Week())\n",
    "classday_range=mon_range.union(wen_range)\n",
    "classday_range"
   ]
  },
  {
   "cell_type": "markdown",
   "metadata": {},
   "source": [
    "Make a copy of this union of date ranges.\n",
    "\n",
    "You can then write a loop to find how many years to offset each entry in your semester index and repeat the unioning process to generate entries for each year from 1960 to 2019 in the copy you created.  In the end you should have an entry for each month/day we meet in 2022 but spanning over the years 1960 to 2019."
   ]
  },
  {
   "cell_type": "code",
   "execution_count": 21,
   "metadata": {},
   "outputs": [
    {
     "name": "stdout",
     "output_type": "stream",
     "text": [
      "DatetimeIndex(['1960-01-11', '1960-01-13', '1960-01-18', '1960-01-20',\n",
      "               '1960-01-25', '1960-01-27', '1960-02-01', '1960-02-03',\n",
      "               '1960-02-08', '1960-02-10',\n",
      "               ...\n",
      "               '2019-03-29', '2019-03-31', '2019-04-05', '2019-04-07',\n",
      "               '2019-04-12', '2019-04-14', '2019-04-19', '2019-04-21',\n",
      "               '2019-04-26', '2019-04-28'],\n",
      "              dtype='datetime64[ns]', length=1920, freq=None)\n"
     ]
    }
   ],
   "source": [
    "union_range=classday_range\n",
    "for i in range(0, len(classday_range)):\n",
    "    a_range=pd.date_range(classday_range[i],periods=(2019-1960+1), freq=-pd.DateOffset(months=12))\n",
    "    union_range=union_range.union(a_range)\n",
    "print(union_range)"
   ]
  },
  {
   "cell_type": "code",
   "execution_count": 24,
   "metadata": {},
   "outputs": [
    {
     "data": {
      "text/html": [
       "<div>\n",
       "<style scoped>\n",
       "    .dataframe tbody tr th:only-of-type {\n",
       "        vertical-align: middle;\n",
       "    }\n",
       "\n",
       "    .dataframe tbody tr th {\n",
       "        vertical-align: top;\n",
       "    }\n",
       "\n",
       "    .dataframe thead th {\n",
       "        text-align: right;\n",
       "    }\n",
       "</style>\n",
       "<table border=\"1\" class=\"dataframe\">\n",
       "  <thead>\n",
       "    <tr style=\"text-align: right;\">\n",
       "      <th></th>\n",
       "      <th>TMIN</th>\n",
       "      <th>TMAX</th>\n",
       "    </tr>\n",
       "  </thead>\n",
       "  <tbody>\n",
       "    <tr>\n",
       "      <th>1960-01-11</th>\n",
       "      <td>16.0</td>\n",
       "      <td>34.0</td>\n",
       "    </tr>\n",
       "    <tr>\n",
       "      <th>1960-01-13</th>\n",
       "      <td>32.0</td>\n",
       "      <td>39.0</td>\n",
       "    </tr>\n",
       "    <tr>\n",
       "      <th>1960-01-18</th>\n",
       "      <td>25.0</td>\n",
       "      <td>30.0</td>\n",
       "    </tr>\n",
       "    <tr>\n",
       "      <th>1960-01-20</th>\n",
       "      <td>17.0</td>\n",
       "      <td>26.0</td>\n",
       "    </tr>\n",
       "    <tr>\n",
       "      <th>1960-01-25</th>\n",
       "      <td>6.0</td>\n",
       "      <td>30.0</td>\n",
       "    </tr>\n",
       "    <tr>\n",
       "      <th>...</th>\n",
       "      <td>...</td>\n",
       "      <td>...</td>\n",
       "    </tr>\n",
       "    <tr>\n",
       "      <th>2019-04-14</th>\n",
       "      <td>31.0</td>\n",
       "      <td>37.0</td>\n",
       "    </tr>\n",
       "    <tr>\n",
       "      <th>2019-04-19</th>\n",
       "      <td>39.0</td>\n",
       "      <td>42.0</td>\n",
       "    </tr>\n",
       "    <tr>\n",
       "      <th>2019-04-21</th>\n",
       "      <td>31.0</td>\n",
       "      <td>71.0</td>\n",
       "    </tr>\n",
       "    <tr>\n",
       "      <th>2019-04-26</th>\n",
       "      <td>41.0</td>\n",
       "      <td>62.0</td>\n",
       "    </tr>\n",
       "    <tr>\n",
       "      <th>2019-04-28</th>\n",
       "      <td>34.0</td>\n",
       "      <td>56.0</td>\n",
       "    </tr>\n",
       "  </tbody>\n",
       "</table>\n",
       "<p>1920 rows × 2 columns</p>\n",
       "</div>"
      ],
      "text/plain": [
       "            TMIN  TMAX\n",
       "1960-01-11  16.0  34.0\n",
       "1960-01-13  32.0  39.0\n",
       "1960-01-18  25.0  30.0\n",
       "1960-01-20  17.0  26.0\n",
       "1960-01-25   6.0  30.0\n",
       "...          ...   ...\n",
       "2019-04-14  31.0  37.0\n",
       "2019-04-19  39.0  42.0\n",
       "2019-04-21  31.0  71.0\n",
       "2019-04-26  41.0  62.0\n",
       "2019-04-28  34.0  56.0\n",
       "\n",
       "[1920 rows x 2 columns]"
      ]
     },
     "execution_count": 24,
     "metadata": {},
     "output_type": "execute_result"
    }
   ],
   "source": [
    "#df_wx --> copy to --> newdf_wx\n",
    "\n",
    "newdf_wx = df_wx.loc[union_range]\n",
    "newdf_wx"
   ]
  },
  {
   "cell_type": "markdown",
   "metadata": {},
   "source": [
    "Now that we have a list of dates, we can retrieve entries for each date from 1960 to 2019 on month/days that we meet.  However to plot this as a boxplot for each date over all years, we need to change our Index around.\n",
    "\n",
    "We want to create what is called a MultiIndex.  `groupby` generated this for us in the past, but here we want to break our current Index of dates into a MultiIndex of three elments: the year, the month, and the day.\n",
    "\n",
    "To create this new index, if df_class is the data frame that holds the values for each date over all years:\n",
    "    pd.MultiIndex.from_arrays([df_class.index.year, df_class.index.month, df_class.index.day], names=['year', 'month', 'day'])\n",
    "\n",
    "This will return a new index.  And you can use `set_index` on the data frame you are working on (e.g. df_class) to replace the index. \n",
    "\n",
    "Using `reset_index` on that dataframe will then flatten it to give each entry a full year, month, day index.  (In essence, it collapses the groupby behavior).  Use `inplace=True` here.  Call `reset_index` again (with `inplace=True`) to convert our DataFrame's index back to the default integer-based index.  So, if df_class is your dataframe:\n",
    "\n",
    "    df_class.reset_index(inplace=True)   # Collapses our MultiIndex, flattening it\n",
    "    df_class.reset_index(inplace=True)   # Converts the MultiIndex into columns; giving us the default integer Index\n"
   ]
  },
  {
   "cell_type": "code",
   "execution_count": null,
   "metadata": {},
   "outputs": [],
   "source": [
    "new_index=pd.MultiIndex.from_arrays([newdf_wx.index.year, newdf_wx.index.month, newdf_wx.index.day], names=['year', 'month', 'day'])\n",
    "\n",
    "newdf_wx.set_index(new_index, drop=True, inplace=True)"
   ]
  },
  {
   "cell_type": "code",
   "execution_count": 31,
   "metadata": {},
   "outputs": [],
   "source": [
    "newdf_wx.reset_index(inplace=True)\n",
    "newdf_wx.reset_index(inplace=True)\n"
   ]
  },
  {
   "cell_type": "markdown",
   "metadata": {},
   "source": [
    "Now we can make the boxplot using Seaborn's boxplot function.  Assuming `df_class` is our DataFrame:\n",
    "\n",
    "    sns.boxplot(data=df_class, x=df_class[['month','day']].apply(lambda x: f'{x[0]}/{x[1]}', axis=1), y='TMAX')\n",
    "    plt.xticks(rotation=45);\n",
    "\n",
    "This says that we should plot what is in `df_class`, that we want the x-axis values to be a string in the form of month/day and the y-values to be the maximum temperature.  We then want to rotate the x-tick labels 45 degrees.  The semicolon at the end of the second command suppresses output."
   ]
  },
  {
   "cell_type": "code",
   "execution_count": 45,
   "metadata": {},
   "outputs": [
    {
     "data": {
      "image/png": "[encoded data removed]",
      "text/plain": [
       "<Figure size 432x288 with 1 Axes>"
      ]
     },
     "metadata": {
      "needs_background": "light"
     },
     "output_type": "display_data"
    }
   ],
   "source": [
    "sns.boxplot(data=newdf_wx, x=newdf_wx[['month','day']].apply(lambda x: f'{x[0]}/{x[1]}', axis=1), y='TMAX')\n",
    "plt.xticks(rotation=45);"
   ]
  },
  {
   "cell_type": "markdown",
   "metadata": {},
   "source": [
    " ## 90&deg; days\n",
    " \n",
    " The number of 90&deg;F days per year are often used to describe climate change.  Plot the average number of 90&deg;F days as a rolling average over 5 years across the entire data set. \n",
    "\n",
    " Here we might want to use a list to store a tuple that contains the start year and the count of 90 degree days and a loop to iterate over the years 1960 to 2020-`window_size`, where `window_size` is 5.\n",
    "\n",
    " You may also need to use `numpy`'s `count_nonzero` to assist you with the counting.\n",
    "\n",
    " Once you have created your list of tuples, you can use `np.array` to convert it into a data structure that will allow slicing.  From there you can use seaborn's `lineplot` to plot your results."
   ]
  },
  {
   "cell_type": "code",
   "execution_count": 3,
   "metadata": {},
   "outputs": [],
   "source": [
    "df_wx=pd.read_csv(fn_wx, index_col=False)[['DATE','TMIN','TMAX']]\n",
    "df_wx['DATE'] =pd.to_datetime(df_wx['DATE'])\n",
    "df_wx.set_index('DATE', inplace=True) #convert index into DATE\n",
    "df_wx.set_index(df_wx.index.to_period('Y'), inplace=True) ##SET INDEX TO YEAR\n"
   ]
  },
  {
   "cell_type": "code",
   "execution_count": 4,
   "metadata": {},
   "outputs": [],
   "source": [
    "alist=[]\n",
    "\n",
    "for i in range(1960, 2020):\n",
    "    yeartemp=df_wx.loc[str(i)]\n",
    "    count=np.count_nonzero(yeartemp['TMAX'] == 90)\n",
    "    alist.append((i,count))"
   ]
  },
  {
   "cell_type": "code",
   "execution_count": 35,
   "metadata": {},
   "outputs": [],
   "source": [
    "ddata=np.array(alist)\n",
    "#print(alist)"
   ]
  },
  {
   "cell_type": "code",
   "execution_count": 40,
   "metadata": {},
   "outputs": [],
   "source": [
    "window_size = 5\n",
    "xdata=[]\n",
    "ydata=[]\n",
    "\n",
    "for i in range(len(alist) - window_size):\n",
    "    xdata.append(alist[i][0])\n",
    "    days=0\n",
    "    for n in range(i, i + window_size):\n",
    "        days=days+alist[n][1]\n",
    "    ydata.append(days)\n",
    "\n",
    "#print(xdata)\n",
    "#print(ydata)"
   ]
  },
  {
   "cell_type": "code",
   "execution_count": 41,
   "metadata": {},
   "outputs": [
    {
     "data": {
      "text/plain": [
       "<AxesSubplot:>"
      ]
     },
     "execution_count": 41,
     "metadata": {},
     "output_type": "execute_result"
    },
    {
     "data": {
      "image/png": "[encoded data removed]",
      "text/plain": [
       "<Figure size 432x288 with 1 Axes>"
      ]
     },
     "metadata": {
      "needs_background": "light"
     },
     "output_type": "display_data"
    }
   ],
   "source": [
    "sns.lineplot(x=xdata, y=ydata)"
   ]
  }
 ],
 "metadata": {
  "kernelspec": {
   "display_name": "Python 3",
   "language": "python",
   "name": "python3"
  },
  "language_info": {
   "codemirror_mode": {
    "name": "ipython",
    "version": 3
   },
   "file_extension": ".py",
   "mimetype": "text/x-python",
   "name": "python",
   "nbconvert_exporter": "python",
   "pygments_lexer": "ipython3",
   "version": "3.9.7"
  }
 },
 "nbformat": 4,
 "nbformat_minor": 2
}
